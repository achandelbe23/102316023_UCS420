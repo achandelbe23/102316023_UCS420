{
 "cells": [
  {
   "cell_type": "markdown",
   "metadata": {},
   "source": [
    "# Assignment 4\n"
   ]
  },
  {
   "cell_type": "markdown",
   "metadata": {},
   "source": [
    "Ques 1)Write a program to create a NumPy 1D-array with 5 elements and perform basic\n",
    "operations like:\n",
    "1. Addition of 2 in all the element\n",
    "2. Multiply 3 with all the elements\n",
    "3. Divide every element by 2"
   ]
  },
  {
   "cell_type": "code",
   "execution_count": 3,
   "metadata": {},
   "outputs": [
    {
     "name": "stdout",
     "output_type": "stream",
     "text": [
      "1. 5\n",
      "2. [ 3  6  9 12 15]\n",
      "3. [0.5 1.  1.5 2.  2.5]\n"
     ]
    }
   ],
   "source": [
    "import numpy as np\n",
    "\n",
    "a = [1,2,3,4,5]\n",
    "arr = np.array(a)\n",
    "\n",
    "print(f\"1. {arr[1] + arr[2]}\")\n",
    "print(f\"2. {arr * 3}\")\n",
    "print(f\"3. {arr / 2}\")\n"
   ]
  },
  {
   "cell_type": "markdown",
   "metadata": {},
   "source": [
    "Ques2) Questions on Basic NumPy Array: <br>\n",
    "a. Reverse the NumPy array: arr = np.array([1, 2, 3, 6, 4, 5]) <br>\n",
    "b. Find the most frequent value and their indice(s) in the following arrays: <br>\n",
    "    i. x = np.array([1,2,3,4,5,1,2,1,1,1])  <br>\n",
    "    ii. y = np.array([1, 1, 1, 2, 3, 4, 2, 4, 3, 3, ])"
   ]
  },
  {
   "cell_type": "code",
   "execution_count": 5,
   "metadata": {},
   "outputs": [
    {
     "name": "stdout",
     "output_type": "stream",
     "text": [
      "Reversed array: [5 4 3 2 1]\n"
     ]
    }
   ],
   "source": [
    "import numpy as np \n",
    "arr = np.array([1,2,3,4,5])\n",
    "print(f\"Reversed array: {np.flip(arr)}\")"
   ]
  },
  {
   "cell_type": "markdown",
   "metadata": {},
   "source": [
    "Ques3) For the given 2-D array arr=np.array([10, 20, 30], [40, 50, 60], [70, 80, 90]), access\n",
    "elements using row and column indices as follows:\n",
    "a) Access 1st row, 2nd column\n",
    "b) Access 3rd row, 1st column"
   ]
  },
  {
   "cell_type": "code",
   "execution_count": 7,
   "metadata": {},
   "outputs": [
    {
     "name": "stdout",
     "output_type": "stream",
     "text": [
      "(a) 1st row, 2nd column: 20\n",
      "(b) 3rd row, 1st column: 70\n"
     ]
    }
   ],
   "source": [
    "arr = np.array([[10, 20, 30], [40, 50, 60], [70, 80, 90]])\n",
    "print(\"(a) 1st row, 2nd column:\", arr[0, 1])  \n",
    "print(\"(b) 3rd row, 1st column:\", arr[2, 0])  "
   ]
  },
  {
   "cell_type": "markdown",
   "metadata": {},
   "source": [
    "Ques4) Write program to create an 1-D NumPy array named <<Your Name>> with evenly\n",
    "spaced 25 numbers from 10 to 100 using linspace(). Print the dimensions of the array,\n",
    "shape, total elements, the data type of each element and total number of bytes consumed\n",
    "by the array. Find the transpose of this array using reshape() attribute. Can we do the same\n",
    "with T attribute?"
   ]
  },
  {
   "cell_type": "code",
   "execution_count": 9,
   "metadata": {},
   "outputs": [
    {
     "name": "stdout",
     "output_type": "stream",
     "text": [
      "\n",
      "Array: [ 10.    13.75  17.5   21.25  25.    28.75  32.5   36.25  40.    43.75\n",
      "  47.5   51.25  55.    58.75  62.5   66.25  70.    73.75  77.5   81.25\n",
      "  85.    88.75  92.5   96.25 100.  ]\n",
      "Dimensions: 1\n",
      "Shape: (25,)\n",
      "Total Elements: 25\n",
      "Data Type: float64\n",
      "Total Bytes Consumed: 200\n",
      "\n",
      "Reshaped (Transpose using reshape):\n",
      " [[ 10.  ]\n",
      " [ 13.75]\n",
      " [ 17.5 ]\n",
      " [ 21.25]\n",
      " [ 25.  ]\n",
      " [ 28.75]\n",
      " [ 32.5 ]\n",
      " [ 36.25]\n",
      " [ 40.  ]\n",
      " [ 43.75]\n",
      " [ 47.5 ]\n",
      " [ 51.25]\n",
      " [ 55.  ]\n",
      " [ 58.75]\n",
      " [ 62.5 ]\n",
      " [ 66.25]\n",
      " [ 70.  ]\n",
      " [ 73.75]\n",
      " [ 77.5 ]\n",
      " [ 81.25]\n",
      " [ 85.  ]\n",
      " [ 88.75]\n",
      " [ 92.5 ]\n",
      " [ 96.25]\n",
      " [100.  ]]\n",
      "Transpose using T attribute:\n",
      " [ 10.    13.75  17.5   21.25  25.    28.75  32.5   36.25  40.    43.75\n",
      "  47.5   51.25  55.    58.75  62.5   66.25  70.    73.75  77.5   81.25\n",
      "  85.    88.75  92.5   96.25 100.  ]\n"
     ]
    }
   ],
   "source": [
    "AAYUSHMAN_SINGH_CHANDEL = np.linspace(10, 100, 25)\n",
    "print(\"\\nArray:\", AAYUSHMAN_SINGH_CHANDEL)\n",
    "print(\"Dimensions:\", AAYUSHMAN_SINGH_CHANDEL.ndim)\n",
    "print(\"Shape:\", AAYUSHMAN_SINGH_CHANDEL.shape)\n",
    "print(\"Total Elements:\", AAYUSHMAN_SINGH_CHANDEL.size)\n",
    "print(\"Data Type:\", AAYUSHMAN_SINGH_CHANDEL.dtype)\n",
    "print(\"Total Bytes Consumed:\", AAYUSHMAN_SINGH_CHANDEL.nbytes)\n",
    "\n",
    "transposed_array = AAYUSHMAN_SINGH_CHANDEL.reshape(25, 1)  \n",
    "print(\"\\nReshaped (Transpose using reshape):\\n\", transposed_array)\n",
    "print(\"Transpose using T attribute:\\n\", AAYUSHMAN_SINGH_CHANDEL.T)"
   ]
  },
  {
   "cell_type": "markdown",
   "metadata": {},
   "source": [
    "Ques5) Create a 2-D Array of three rows and four columns, named ucs420_<your_name>>\n",
    "with following values – 10, 20, 30, 40, 50, 60, 70, 80, 90, 15, 20, 35. Compute the mean,\n",
    "median, max, min, unique elements. Reshape the array to four rows and three columns and\n",
    "name it as reshaped_ ucs420_<your_name>>. Resize the array to two rows and three\n",
    "columns and name it as resized_ ucs420_<your_name>>."
   ]
  },
  {
   "cell_type": "code",
   "execution_count": 11,
   "metadata": {},
   "outputs": [
    {
     "name": "stdout",
     "output_type": "stream",
     "text": [
      "\n",
      "Mean: 43.333333333333336\n",
      "Median: 37.5\n",
      "Max: 90\n",
      "Min: 10\n",
      "Unique Elements: [10 15 20 30 35 40 50 60 70 80 90]\n",
      "\n",
      "Reshaped to 4x3:\n",
      " [[10 20 30]\n",
      " [40 50 60]\n",
      " [70 80 90]\n",
      " [15 20 35]]\n",
      "\n",
      "Resized to 2x3:\n",
      " [[10 20 30]\n",
      " [50 60 70]]\n"
     ]
    }
   ],
   "source": [
    "ucs420_AAYUSHMAN_SINGH_CHANDEL = np.array([[10, 20, 30, 40], [50, 60, 70, 80], [90, 15, 20, 35]])\n",
    "print(\"\\nMean:\", np.mean(ucs420_AAYUSHMAN_SINGH_CHANDEL))\n",
    "print(\"Median:\", np.median(ucs420_AAYUSHMAN_SINGH_CHANDEL))\n",
    "print(\"Max:\", np.max(ucs420_AAYUSHMAN_SINGH_CHANDEL))\n",
    "print(\"Min:\", np.min(ucs420_AAYUSHMAN_SINGH_CHANDEL))\n",
    "print(\"Unique Elements:\", np.unique(ucs420_AAYUSHMAN_SINGH_CHANDEL))\n",
    "\n",
    "\n",
    "reshaped_ucs420_AAYUSHMAN_SINGH_CHANDEL = ucs420_AAYUSHMAN_SINGH_CHANDEL.reshape(4, 3)\n",
    "print(\"\\nReshaped to 4x3:\\n\", reshaped_ucs420_AAYUSHMAN_SINGH_CHANDEL)\n",
    "\n",
    "\n",
    "resized_ucs420_AAYUSHMAN_SINGH_CHANDEL = ucs420_AAYUSHMAN_SINGH_CHANDEL[:2, :3]  \n",
    "print(\"\\nResized to 2x3:\\n\", resized_ucs420_AAYUSHMAN_SINGH_CHANDEL)"
   ]
  }
 ],
 "metadata": {
  "kernelspec": {
   "display_name": "Python 3 (ipykernel)",
   "language": "python",
   "name": "python3"
  },
  "language_info": {
   "codemirror_mode": {
    "name": "ipython",
    "version": 3
   },
   "file_extension": ".py",
   "mimetype": "text/x-python",
   "name": "python",
   "nbconvert_exporter": "python",
   "pygments_lexer": "ipython3",
   "version": "3.12.3"
  }
 },
 "nbformat": 4,
 "nbformat_minor": 4
}
